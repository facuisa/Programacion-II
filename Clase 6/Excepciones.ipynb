{
 "cells": [
  {
   "cell_type": "code",
   "execution_count": 1,
   "metadata": {},
   "outputs": [],
   "source": [
    "def busca_elemento(obj,indice_o_clave):\n",
    "    try:\n",
    "        return obj[indice_o_clave]\n",
    "    except IndexError:\n",
    "        print(f'indice {indice_o_clave} utilizado no accesible')\n",
    "    except KeyError:\n",
    "        print(f'clave {indice_o_clave} utilizada no encontrada')\n",
    "    except Exception as e: #cualquier tipo de excepcion\n",
    "        print(f'Excepcion inesperada {e}')\n",
    "\n"
   ]
  },
  {
   "cell_type": "code",
   "execution_count": 7,
   "metadata": {},
   "outputs": [
    {
     "name": "stdout",
     "output_type": "stream",
     "text": [
      "Excepcion inesperada list indices must be integers or slices, not str\n"
     ]
    }
   ],
   "source": [
    "mi_lista = [1, 2, 3, 4]\n",
    "busca_elemento (mi_lista, 'facu')"
   ]
  },
  {
   "cell_type": "code",
   "execution_count": 8,
   "metadata": {},
   "outputs": [
    {
     "name": "stdout",
     "output_type": "stream",
     "text": [
      "[1, 2, 3, 4] pepe\n"
     ]
    }
   ],
   "source": []
  }
 ],
 "metadata": {
  "kernelspec": {
   "display_name": "Python 3",
   "language": "python",
   "name": "python3"
  },
  "language_info": {
   "codemirror_mode": {
    "name": "ipython",
    "version": 3
   },
   "file_extension": ".py",
   "mimetype": "text/x-python",
   "name": "python",
   "nbconvert_exporter": "python",
   "pygments_lexer": "ipython3",
   "version": "3.12.3"
  }
 },
 "nbformat": 4,
 "nbformat_minor": 2
}
