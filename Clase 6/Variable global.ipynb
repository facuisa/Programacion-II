{
 "cells": [
  {
   "cell_type": "code",
   "execution_count": 1,
   "metadata": {},
   "outputs": [
    {
     "data": {
      "text/plain": [
       "30"
      ]
     },
     "execution_count": 1,
     "metadata": {},
     "output_type": "execute_result"
    }
   ],
   "source": [
    "variable_global = 20\n",
    "def mi_funcion (numero):\n",
    "    return numero + variable_global\n",
    "\n",
    "mi_funcion(10)"
   ]
  },
  {
   "cell_type": "code",
   "execution_count": 20,
   "metadata": {},
   "outputs": [],
   "source": [
    "nombre = \"Facundo\"\n",
    "def saludo():\n",
    "    nombre = \"Gonzalo\"\n",
    "    print(f\"Hola soy {nombre}\")"
   ]
  },
  {
   "cell_type": "code",
   "execution_count": 18,
   "metadata": {},
   "outputs": [
    {
     "name": "stdout",
     "output_type": "stream",
     "text": [
      "Hola soy Gonzalo\n"
     ]
    }
   ],
   "source": [
    "saludo()"
   ]
  },
  {
   "cell_type": "code",
   "execution_count": 21,
   "metadata": {},
   "outputs": [
    {
     "name": "stdout",
     "output_type": "stream",
     "text": [
      "Facundo\n"
     ]
    }
   ],
   "source": [
    "print(nombre)"
   ]
  },
  {
   "cell_type": "code",
   "execution_count": 22,
   "metadata": {},
   "outputs": [],
   "source": [
    "nombre = \"Facundo\"\n",
    "def saludo():\n",
    "    global nombre\n",
    "    nombre = \"Gonzalo\"\n",
    "    print(f\"Hola soy {nombre}\")"
   ]
  },
  {
   "cell_type": "code",
   "execution_count": 23,
   "metadata": {},
   "outputs": [
    {
     "name": "stdout",
     "output_type": "stream",
     "text": [
      "Hola soy Gonzalo\n"
     ]
    }
   ],
   "source": [
    "saludo()"
   ]
  },
  {
   "cell_type": "code",
   "execution_count": 24,
   "metadata": {},
   "outputs": [
    {
     "name": "stdout",
     "output_type": "stream",
     "text": [
      "Gonzalo\n"
     ]
    }
   ],
   "source": [
    "print(nombre)"
   ]
  },
  {
   "cell_type": "code",
   "execution_count": 25,
   "metadata": {},
   "outputs": [],
   "source": [
    "def suma_pares (elementos):\n",
    "    \"\"\"suma elementos pares encontrados en elementos\n",
    "    :parametro elementos: lista de numeros por sumar\n",
    "    : return integre: numero resultante de la suma de los pares\"\"\" \n",
    "    suma = 0\n",
    "    for pares in elementos:\n",
    "        if pares % 2 == 0:\n",
    "            suma += pares\n",
    "        return suma"
   ]
  },
  {
   "cell_type": "code",
   "execution_count": 26,
   "metadata": {},
   "outputs": [
    {
     "name": "stdout",
     "output_type": "stream",
     "text": [
      "Help on function suma_pares in module __main__:\n",
      "\n",
      "suma_pares(elementos)\n",
      "    suma elementos pares encontrados en elementos\n",
      "    :parametro elementos: lista de numeros por sumar\n",
      "    : return integre: numero resultante de la suma de los pares\n",
      "\n"
     ]
    }
   ],
   "source": [
    "help(suma_pares)  #documentacion de funciones"
   ]
  }
 ],
 "metadata": {
  "kernelspec": {
   "display_name": "Python 3",
   "language": "python",
   "name": "python3"
  },
  "language_info": {
   "codemirror_mode": {
    "name": "ipython",
    "version": 3
   },
   "file_extension": ".py",
   "mimetype": "text/x-python",
   "name": "python",
   "nbconvert_exporter": "python",
   "pygments_lexer": "ipython3",
   "version": "3.12.3"
  }
 },
 "nbformat": 4,
 "nbformat_minor": 2
}
