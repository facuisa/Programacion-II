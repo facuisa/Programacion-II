{
 "cells": [
  {
   "cell_type": "markdown",
   "metadata": {},
   "source": [
    "1. Crear una función llamada “usuario” que reciba como parámetro un\n",
    "nombre y devuelva un mensaje “Bienvenido al sistema {nombre}”"
   ]
  },
  {
   "cell_type": "code",
   "execution_count": 8,
   "metadata": {},
   "outputs": [],
   "source": [
    "usuario = input(\"ingrese su nombre\")\n",
    "def  saludar(usuario):\n",
    "    print(f\"bienvenido al sistema {usuario}\")\n",
    "    \n",
    "\n"
   ]
  },
  {
   "cell_type": "markdown",
   "metadata": {},
   "source": [
    "2. llamar a la función “usuario”"
   ]
  },
  {
   "cell_type": "code",
   "execution_count": 9,
   "metadata": {},
   "outputs": [
    {
     "name": "stdout",
     "output_type": "stream",
     "text": [
      "bienvenido al sistema roberto\n"
     ]
    }
   ],
   "source": [
    "saludar(usuario)"
   ]
  },
  {
   "cell_type": "markdown",
   "metadata": {},
   "source": [
    "3. Escribe una función que tome dos números como argumentos y\n",
    "devuelva su suma.\n"
   ]
  },
  {
   "cell_type": "code",
   "execution_count": 12,
   "metadata": {},
   "outputs": [],
   "source": [
    "def suma (num, num2):\n",
    "    return num + num2\n"
   ]
  },
  {
   "cell_type": "code",
   "execution_count": 13,
   "metadata": {},
   "outputs": [
    {
     "name": "stdout",
     "output_type": "stream",
     "text": [
      "10413\n"
     ]
    }
   ],
   "source": [
    "resultado = suma(1482, 8931)\n",
    "print(resultado)"
   ]
  },
  {
   "cell_type": "markdown",
   "metadata": {},
   "source": [
    "4. Crea una función que reciba dos números y una operación (suma,\n",
    "resta, multiplicación, división) y devuelva el resultado.\n"
   ]
  },
  {
   "cell_type": "code",
   "execution_count": 16,
   "metadata": {},
   "outputs": [],
   "source": [
    "def operacion (num2, num3, op):\n",
    "    if op == 1:\n",
    "        return num2 + num3\n",
    "    elif op == 2:\n",
    "        return num2 - num3\n",
    "    elif op == 3:\n",
    "        return num2 * num3\n",
    "    elif op  == 4:\n",
    "        return num2 / num3\n",
    "    else:\n",
    "        return \"Error, operación no válida\""
   ]
  },
  {
   "cell_type": "code",
   "execution_count": 18,
   "metadata": {},
   "outputs": [
    {
     "name": "stdout",
     "output_type": "stream",
     "text": [
      "ingrese la operacion a realizar (+ = 1, - = 2, * = 3, / = 4 ): \n",
      "2\n"
     ]
    }
   ],
   "source": [
    "num2 = int(input(\"ingrese el primer numero\"))\n",
    "num3 =  int(input(\"ingrese el segundo numero\"))\n",
    "print(\"ingrese la operacion a realizar (+ = 1, - = 2, * = 3, / = 4 ): \")\n",
    "op = int(input(\"ingrese la operacion a realizar \"))\n",
    "resultado = operacion(num2, num3, op)\n",
    "print(resultado)\n",
    "\n"
   ]
  }
 ],
 "metadata": {
  "kernelspec": {
   "display_name": "Python 3",
   "language": "python",
   "name": "python3"
  },
  "language_info": {
   "codemirror_mode": {
    "name": "ipython",
    "version": 3
   },
   "file_extension": ".py",
   "mimetype": "text/x-python",
   "name": "python",
   "nbconvert_exporter": "python",
   "pygments_lexer": "ipython3",
   "version": "3.12.3"
  }
 },
 "nbformat": 4,
 "nbformat_minor": 2
}
